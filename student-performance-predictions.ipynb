{
 "cells": [
  {
   "cell_type": "code",
   "execution_count": 1,
   "id": "734db9d6",
   "metadata": {
    "_cell_guid": "b1076dfc-b9ad-4769-8c92-a6c4dae69d19",
    "_uuid": "8f2839f25d086af736a60e9eeb907d3b93b6e0e5",
    "execution": {
     "iopub.execute_input": "2024-08-20T20:26:48.179882Z",
     "iopub.status.busy": "2024-08-20T20:26:48.179408Z",
     "iopub.status.idle": "2024-08-20T20:26:50.778800Z",
     "shell.execute_reply": "2024-08-20T20:26:50.777606Z"
    },
    "papermill": {
     "duration": 2.61676,
     "end_time": "2024-08-20T20:26:50.781743",
     "exception": false,
     "start_time": "2024-08-20T20:26:48.164983",
     "status": "completed"
    },
    "tags": []
   },
   "outputs": [],
   "source": [
    "import pandas as pd \n",
    "import seaborn as sns \n",
    "import matplotlib.pyplot as plt \n",
    "import numpy as np"
   ]
  },
  {
   "cell_type": "markdown",
   "id": "a893ac6f",
   "metadata": {
    "papermill": {
     "duration": 0.011703,
     "end_time": "2024-08-20T20:26:50.805483",
     "exception": false,
     "start_time": "2024-08-20T20:26:50.793780",
     "status": "completed"
    },
    "tags": []
   },
   "source": [
    "#  <p style=\"width: 800px; border-radius: 12px; border: 3px dashed #ffe81c; padding: 20px; background-color: #058BDD; text-align: center; box-shadow: 0px 6px 12px rgba(0, 0, 0, 0.3); color: #F0FF00; text-shadow: 1px 1px 2px rgba(0, 0, 0, 0.3); font-weight: bold; margin-bottom: 15px; font-size: 30px;\"> Readers data</p>"
   ]
  },
  {
   "cell_type": "code",
   "execution_count": 2,
   "id": "057d3287",
   "metadata": {
    "execution": {
     "iopub.execute_input": "2024-08-20T20:26:50.831476Z",
     "iopub.status.busy": "2024-08-20T20:26:50.830836Z",
     "iopub.status.idle": "2024-08-20T20:26:50.853409Z",
     "shell.execute_reply": "2024-08-20T20:26:50.852185Z"
    },
    "papermill": {
     "duration": 0.038867,
     "end_time": "2024-08-20T20:26:50.856478",
     "exception": false,
     "start_time": "2024-08-20T20:26:50.817611",
     "status": "completed"
    },
    "tags": []
   },
   "outputs": [],
   "source": [
    "df=pd.read_csv(\"/kaggle/input/student-performance-predictions/student_performance.csv\")"
   ]
  },
  {
   "cell_type": "code",
   "execution_count": 3,
   "id": "a4076af7",
   "metadata": {
    "execution": {
     "iopub.execute_input": "2024-08-20T20:26:50.882089Z",
     "iopub.status.busy": "2024-08-20T20:26:50.881669Z",
     "iopub.status.idle": "2024-08-20T20:26:50.908372Z",
     "shell.execute_reply": "2024-08-20T20:26:50.907093Z"
    },
    "papermill": {
     "duration": 0.042738,
     "end_time": "2024-08-20T20:26:50.911277",
     "exception": false,
     "start_time": "2024-08-20T20:26:50.868539",
     "status": "completed"
    },
    "tags": []
   },
   "outputs": [
    {
     "data": {
      "text/html": [
       "<div>\n",
       "<style scoped>\n",
       "    .dataframe tbody tr th:only-of-type {\n",
       "        vertical-align: middle;\n",
       "    }\n",
       "\n",
       "    .dataframe tbody tr th {\n",
       "        vertical-align: top;\n",
       "    }\n",
       "\n",
       "    .dataframe thead th {\n",
       "        text-align: right;\n",
       "    }\n",
       "</style>\n",
       "<table border=\"1\" class=\"dataframe\">\n",
       "  <thead>\n",
       "    <tr style=\"text-align: right;\">\n",
       "      <th></th>\n",
       "      <th>StudentID</th>\n",
       "      <th>Name</th>\n",
       "      <th>Gender</th>\n",
       "      <th>AttendanceRate</th>\n",
       "      <th>StudyHoursPerWeek</th>\n",
       "      <th>PreviousGrade</th>\n",
       "      <th>ExtracurricularActivities</th>\n",
       "      <th>ParentalSupport</th>\n",
       "      <th>FinalGrade</th>\n",
       "    </tr>\n",
       "  </thead>\n",
       "  <tbody>\n",
       "    <tr>\n",
       "      <th>0</th>\n",
       "      <td>1</td>\n",
       "      <td>John</td>\n",
       "      <td>Male</td>\n",
       "      <td>85</td>\n",
       "      <td>15</td>\n",
       "      <td>78</td>\n",
       "      <td>1</td>\n",
       "      <td>High</td>\n",
       "      <td>80</td>\n",
       "    </tr>\n",
       "    <tr>\n",
       "      <th>1</th>\n",
       "      <td>2</td>\n",
       "      <td>Sarah</td>\n",
       "      <td>Female</td>\n",
       "      <td>90</td>\n",
       "      <td>20</td>\n",
       "      <td>85</td>\n",
       "      <td>2</td>\n",
       "      <td>Medium</td>\n",
       "      <td>87</td>\n",
       "    </tr>\n",
       "    <tr>\n",
       "      <th>2</th>\n",
       "      <td>3</td>\n",
       "      <td>Alex</td>\n",
       "      <td>Male</td>\n",
       "      <td>78</td>\n",
       "      <td>10</td>\n",
       "      <td>65</td>\n",
       "      <td>0</td>\n",
       "      <td>Low</td>\n",
       "      <td>68</td>\n",
       "    </tr>\n",
       "    <tr>\n",
       "      <th>3</th>\n",
       "      <td>4</td>\n",
       "      <td>Michael</td>\n",
       "      <td>Male</td>\n",
       "      <td>92</td>\n",
       "      <td>25</td>\n",
       "      <td>90</td>\n",
       "      <td>3</td>\n",
       "      <td>High</td>\n",
       "      <td>92</td>\n",
       "    </tr>\n",
       "    <tr>\n",
       "      <th>4</th>\n",
       "      <td>5</td>\n",
       "      <td>Emma</td>\n",
       "      <td>Female</td>\n",
       "      <td>88</td>\n",
       "      <td>18</td>\n",
       "      <td>82</td>\n",
       "      <td>2</td>\n",
       "      <td>Medium</td>\n",
       "      <td>85</td>\n",
       "    </tr>\n",
       "  </tbody>\n",
       "</table>\n",
       "</div>"
      ],
      "text/plain": [
       "   StudentID     Name  Gender  AttendanceRate  StudyHoursPerWeek  \\\n",
       "0          1     John    Male              85                 15   \n",
       "1          2    Sarah  Female              90                 20   \n",
       "2          3     Alex    Male              78                 10   \n",
       "3          4  Michael    Male              92                 25   \n",
       "4          5     Emma  Female              88                 18   \n",
       "\n",
       "   PreviousGrade  ExtracurricularActivities ParentalSupport  FinalGrade  \n",
       "0             78                          1            High          80  \n",
       "1             85                          2          Medium          87  \n",
       "2             65                          0             Low          68  \n",
       "3             90                          3            High          92  \n",
       "4             82                          2          Medium          85  "
      ]
     },
     "execution_count": 3,
     "metadata": {},
     "output_type": "execute_result"
    }
   ],
   "source": [
    "df.head()"
   ]
  },
  {
   "cell_type": "markdown",
   "id": "47222f7f",
   "metadata": {
    "papermill": {
     "duration": 0.01207,
     "end_time": "2024-08-20T20:26:50.935795",
     "exception": false,
     "start_time": "2024-08-20T20:26:50.923725",
     "status": "completed"
    },
    "tags": []
   },
   "source": [
    "# <p style=\"width: 800px; border-radius: 12px; border: 3px dashed #ffe81c; padding: 20px; background-color: #058BDD; text-align: center; box-shadow: 0px 6px 12px rgba(0, 0, 0, 0.3); color: #F0FF00; text-shadow: 1px 1px 2px rgba(0, 0, 0, 0.3); font-weight: bold; margin-bottom: 15px; font-size: 30px;\">describe in data</p>"
   ]
  },
  {
   "cell_type": "code",
   "execution_count": 4,
   "id": "4dbacba8",
   "metadata": {
    "execution": {
     "iopub.execute_input": "2024-08-20T20:26:50.962202Z",
     "iopub.status.busy": "2024-08-20T20:26:50.961746Z",
     "iopub.status.idle": "2024-08-20T20:26:51.004532Z",
     "shell.execute_reply": "2024-08-20T20:26:51.003199Z"
    },
    "papermill": {
     "duration": 0.059042,
     "end_time": "2024-08-20T20:26:51.007081",
     "exception": false,
     "start_time": "2024-08-20T20:26:50.948039",
     "status": "completed"
    },
    "tags": []
   },
   "outputs": [
    {
     "data": {
      "text/html": [
       "<div>\n",
       "<style scoped>\n",
       "    .dataframe tbody tr th:only-of-type {\n",
       "        vertical-align: middle;\n",
       "    }\n",
       "\n",
       "    .dataframe tbody tr th {\n",
       "        vertical-align: top;\n",
       "    }\n",
       "\n",
       "    .dataframe thead th {\n",
       "        text-align: right;\n",
       "    }\n",
       "</style>\n",
       "<table border=\"1\" class=\"dataframe\">\n",
       "  <thead>\n",
       "    <tr style=\"text-align: right;\">\n",
       "      <th></th>\n",
       "      <th>count</th>\n",
       "      <th>mean</th>\n",
       "      <th>std</th>\n",
       "      <th>min</th>\n",
       "      <th>25%</th>\n",
       "      <th>50%</th>\n",
       "      <th>75%</th>\n",
       "      <th>max</th>\n",
       "    </tr>\n",
       "  </thead>\n",
       "  <tbody>\n",
       "    <tr>\n",
       "      <th>StudentID</th>\n",
       "      <td>10.0</td>\n",
       "      <td>5.5</td>\n",
       "      <td>3.027650</td>\n",
       "      <td>1.0</td>\n",
       "      <td>3.25</td>\n",
       "      <td>5.5</td>\n",
       "      <td>7.75</td>\n",
       "      <td>10.0</td>\n",
       "    </tr>\n",
       "    <tr>\n",
       "      <th>AttendanceRate</th>\n",
       "      <td>10.0</td>\n",
       "      <td>85.6</td>\n",
       "      <td>7.441625</td>\n",
       "      <td>70.0</td>\n",
       "      <td>82.75</td>\n",
       "      <td>86.5</td>\n",
       "      <td>90.75</td>\n",
       "      <td>95.0</td>\n",
       "    </tr>\n",
       "    <tr>\n",
       "      <th>StudyHoursPerWeek</th>\n",
       "      <td>10.0</td>\n",
       "      <td>17.7</td>\n",
       "      <td>6.848357</td>\n",
       "      <td>8.0</td>\n",
       "      <td>12.75</td>\n",
       "      <td>17.5</td>\n",
       "      <td>21.50</td>\n",
       "      <td>30.0</td>\n",
       "    </tr>\n",
       "    <tr>\n",
       "      <th>PreviousGrade</th>\n",
       "      <td>10.0</td>\n",
       "      <td>78.1</td>\n",
       "      <td>10.170218</td>\n",
       "      <td>60.0</td>\n",
       "      <td>71.75</td>\n",
       "      <td>80.0</td>\n",
       "      <td>85.75</td>\n",
       "      <td>90.0</td>\n",
       "    </tr>\n",
       "    <tr>\n",
       "      <th>ExtracurricularActivities</th>\n",
       "      <td>10.0</td>\n",
       "      <td>1.5</td>\n",
       "      <td>1.080123</td>\n",
       "      <td>0.0</td>\n",
       "      <td>1.00</td>\n",
       "      <td>1.5</td>\n",
       "      <td>2.00</td>\n",
       "      <td>3.0</td>\n",
       "    </tr>\n",
       "    <tr>\n",
       "      <th>FinalGrade</th>\n",
       "      <td>10.0</td>\n",
       "      <td>80.2</td>\n",
       "      <td>10.097304</td>\n",
       "      <td>62.0</td>\n",
       "      <td>73.50</td>\n",
       "      <td>82.5</td>\n",
       "      <td>87.75</td>\n",
       "      <td>92.0</td>\n",
       "    </tr>\n",
       "  </tbody>\n",
       "</table>\n",
       "</div>"
      ],
      "text/plain": [
       "                           count  mean        std   min    25%   50%    75%  \\\n",
       "StudentID                   10.0   5.5   3.027650   1.0   3.25   5.5   7.75   \n",
       "AttendanceRate              10.0  85.6   7.441625  70.0  82.75  86.5  90.75   \n",
       "StudyHoursPerWeek           10.0  17.7   6.848357   8.0  12.75  17.5  21.50   \n",
       "PreviousGrade               10.0  78.1  10.170218  60.0  71.75  80.0  85.75   \n",
       "ExtracurricularActivities   10.0   1.5   1.080123   0.0   1.00   1.5   2.00   \n",
       "FinalGrade                  10.0  80.2  10.097304  62.0  73.50  82.5  87.75   \n",
       "\n",
       "                            max  \n",
       "StudentID                  10.0  \n",
       "AttendanceRate             95.0  \n",
       "StudyHoursPerWeek          30.0  \n",
       "PreviousGrade              90.0  \n",
       "ExtracurricularActivities   3.0  \n",
       "FinalGrade                 92.0  "
      ]
     },
     "execution_count": 4,
     "metadata": {},
     "output_type": "execute_result"
    }
   ],
   "source": [
    "df.describe().transpose()"
   ]
  },
  {
   "cell_type": "markdown",
   "id": "c77e7f39",
   "metadata": {
    "papermill": {
     "duration": 0.012159,
     "end_time": "2024-08-20T20:26:51.031957",
     "exception": false,
     "start_time": "2024-08-20T20:26:51.019798",
     "status": "completed"
    },
    "tags": []
   },
   "source": [
    "# <p style=\"width: 800px; border-radius: 12px; border: 3px dashed #ffe81c; padding: 20px; background-color: #058BDD; text-align: center; box-shadow: 0px 6px 12px rgba(0, 0, 0, 0.3); color: #F0FF00; text-shadow: 1px 1px 2px rgba(0, 0, 0, 0.3); font-weight: bold; margin-bottom: 15px; font-size: 30px;\">Showing relationships in data</p>"
   ]
  },
  {
   "cell_type": "code",
   "execution_count": 5,
   "id": "9cebb629",
   "metadata": {
    "execution": {
     "iopub.execute_input": "2024-08-20T20:26:51.060308Z",
     "iopub.status.busy": "2024-08-20T20:26:51.059881Z",
     "iopub.status.idle": "2024-08-20T20:26:51.535769Z",
     "shell.execute_reply": "2024-08-20T20:26:51.534469Z"
    },
    "papermill": {
     "duration": 0.492954,
     "end_time": "2024-08-20T20:26:51.539016",
     "exception": false,
     "start_time": "2024-08-20T20:26:51.046062",
     "status": "completed"
    },
    "tags": []
   },
   "outputs": [
    {
     "data": {
      "text/plain": [
       "<Axes: xlabel='PreviousGrade', ylabel='FinalGrade'>"
      ]
     },
     "execution_count": 5,
     "metadata": {},
     "output_type": "execute_result"
    },
    {
     "data": {
      "image/png": "[encoded data removed]",
      "text/plain": [
       "<Figure size 640x480 with 1 Axes>"
      ]
     },
     "metadata": {},
     "output_type": "display_data"
    }
   ],
   "source": [
    "sns.scatterplot(data=df,x='PreviousGrade',y='FinalGrade',hue='Gender')"
   ]
  },
  {
   "cell_type": "markdown",
   "id": "1d14c991",
   "metadata": {
    "papermill": {
     "duration": 0.012754,
     "end_time": "2024-08-20T20:26:51.566651",
     "exception": false,
     "start_time": "2024-08-20T20:26:51.553897",
     "status": "completed"
    },
    "tags": []
   },
   "source": [
    "# The higher the PreviousGrade, the better the FinalGrade tends to be, with female students often achieving higher marks."
   ]
  },
  {
   "cell_type": "code",
   "execution_count": 6,
   "id": "6988497f",
   "metadata": {
    "execution": {
     "iopub.execute_input": "2024-08-20T20:26:51.594370Z",
     "iopub.status.busy": "2024-08-20T20:26:51.593969Z",
     "iopub.status.idle": "2024-08-20T20:26:51.992208Z",
     "shell.execute_reply": "2024-08-20T20:26:51.990969Z"
    },
    "papermill": {
     "duration": 0.415163,
     "end_time": "2024-08-20T20:26:51.994905",
     "exception": false,
     "start_time": "2024-08-20T20:26:51.579742",
     "status": "completed"
    },
    "tags": []
   },
   "outputs": [
    {
     "data": {
      "text/plain": [
       "<Axes: xlabel='ParentalSupport', ylabel='FinalGrade'>"
      ]
     },
     "execution_count": 6,
     "metadata": {},
     "output_type": "execute_result"
    },
    {
     "data": {
      "image/png": "[encoded data removed]",
      "text/plain": [
       "<Figure size 640x480 with 1 Axes>"
      ]
     },
     "metadata": {},
     "output_type": "display_data"
    }
   ],
   "source": [
    "sns.barplot(data=df,x='ParentalSupport',y='FinalGrade',hue='Gender')"
   ]
  },
  {
   "cell_type": "markdown",
   "id": "0cb0b471",
   "metadata": {
    "papermill": {
     "duration": 0.013208,
     "end_time": "2024-08-20T20:26:52.021849",
     "exception": false,
     "start_time": "2024-08-20T20:26:52.008641",
     "status": "completed"
    },
    "tags": []
   },
   "source": [
    "# Students tend to have the lowest scores when ParentalSupport is low."
   ]
  },
  {
   "cell_type": "code",
   "execution_count": 7,
   "id": "3b7761ed",
   "metadata": {
    "execution": {
     "iopub.execute_input": "2024-08-20T20:26:52.050759Z",
     "iopub.status.busy": "2024-08-20T20:26:52.050366Z",
     "iopub.status.idle": "2024-08-20T20:26:52.433909Z",
     "shell.execute_reply": "2024-08-20T20:26:52.432643Z"
    },
    "papermill": {
     "duration": 0.401344,
     "end_time": "2024-08-20T20:26:52.436837",
     "exception": false,
     "start_time": "2024-08-20T20:26:52.035493",
     "status": "completed"
    },
    "tags": []
   },
   "outputs": [
    {
     "data": {
      "text/plain": [
       "<Axes: xlabel='AttendanceRate', ylabel='StudyHoursPerWeek'>"
      ]
     },
     "execution_count": 7,
     "metadata": {},
     "output_type": "execute_result"
    },
    {
     "data": {
      "image/png": "[encoded data removed]",
      "text/plain": [
       "<Figure size 640x480 with 1 Axes>"
      ]
     },
     "metadata": {},
     "output_type": "display_data"
    }
   ],
   "source": [
    "sns.scatterplot(data=df,x='AttendanceRate',y='StudyHoursPerWeek',hue='Gender')"
   ]
  },
  {
   "cell_type": "code",
   "execution_count": 8,
   "id": "655fdd1c",
   "metadata": {
    "execution": {
     "iopub.execute_input": "2024-08-20T20:26:52.468415Z",
     "iopub.status.busy": "2024-08-20T20:26:52.467945Z",
     "iopub.status.idle": "2024-08-20T20:26:52.852842Z",
     "shell.execute_reply": "2024-08-20T20:26:52.851408Z"
    },
    "papermill": {
     "duration": 0.404065,
     "end_time": "2024-08-20T20:26:52.855702",
     "exception": false,
     "start_time": "2024-08-20T20:26:52.451637",
     "status": "completed"
    },
    "tags": []
   },
   "outputs": [
    {
     "data": {
      "text/plain": [
       "<Axes: xlabel='StudyHoursPerWeek', ylabel='FinalGrade'>"
      ]
     },
     "execution_count": 8,
     "metadata": {},
     "output_type": "execute_result"
    },
    {
     "data": {
      "image/png": "[encoded data removed]",
      "text/plain": [
       "<Figure size 640x480 with 1 Axes>"
      ]
     },
     "metadata": {},
     "output_type": "display_data"
    }
   ],
   "source": [
    "sns.scatterplot(data=df,x='StudyHoursPerWeek',y='FinalGrade',hue='Gender')"
   ]
  },
  {
   "cell_type": "markdown",
   "id": "034b04be",
   "metadata": {
    "papermill": {
     "duration": 0.014711,
     "end_time": "2024-08-20T20:26:52.885138",
     "exception": false,
     "start_time": "2024-08-20T20:26:52.870427",
     "status": "completed"
    },
    "tags": []
   },
   "source": [
    "# The more StudyHours PerWeek students put in, the higher their scores tend to be.\n"
   ]
  },
  {
   "cell_type": "markdown",
   "id": "1444138d",
   "metadata": {
    "papermill": {
     "duration": 0.014495,
     "end_time": "2024-08-20T20:26:52.914574",
     "exception": false,
     "start_time": "2024-08-20T20:26:52.900079",
     "status": "completed"
    },
    "tags": []
   },
   "source": [
    "# null value"
   ]
  },
  {
   "cell_type": "code",
   "execution_count": 9,
   "id": "af272059",
   "metadata": {
    "execution": {
     "iopub.execute_input": "2024-08-20T20:26:52.946698Z",
     "iopub.status.busy": "2024-08-20T20:26:52.946263Z",
     "iopub.status.idle": "2024-08-20T20:26:52.957318Z",
     "shell.execute_reply": "2024-08-20T20:26:52.956142Z"
    },
    "papermill": {
     "duration": 0.030397,
     "end_time": "2024-08-20T20:26:52.959835",
     "exception": false,
     "start_time": "2024-08-20T20:26:52.929438",
     "status": "completed"
    },
    "tags": []
   },
   "outputs": [
    {
     "data": {
      "text/plain": [
       "StudentID                    0\n",
       "Name                         0\n",
       "Gender                       0\n",
       "AttendanceRate               0\n",
       "StudyHoursPerWeek            0\n",
       "PreviousGrade                0\n",
       "ExtracurricularActivities    0\n",
       "ParentalSupport              0\n",
       "FinalGrade                   0\n",
       "dtype: int64"
      ]
     },
     "execution_count": 9,
     "metadata": {},
     "output_type": "execute_result"
    }
   ],
   "source": [
    "def null(df):\n",
    "    g=df.isnull().sum()\n",
    "    f=pd.Series(g)\n",
    "    return g\n",
    "\n",
    "\n",
    "null(df)"
   ]
  },
  {
   "cell_type": "markdown",
   "id": "801b2ca4",
   "metadata": {
    "papermill": {
     "duration": 0.01461,
     "end_time": "2024-08-20T20:26:52.989358",
     "exception": false,
     "start_time": "2024-08-20T20:26:52.974748",
     "status": "completed"
    },
    "tags": []
   },
   "source": [
    " # <p style=\"width: 800px; border-radius: 12px; border: 3px dashed #ffe81c; padding: 20px; background-color: #058BDD; text-align: center; box-shadow: 0px 6px 12px rgba(0, 0, 0, 0.3); color: #F0FF00; text-shadow: 1px 1px 2px rgba(0, 0, 0, 0.3); font-weight: bold; margin-bottom: 15px; font-size: 30px;\">label_Encoding</p>"
   ]
  },
  {
   "cell_type": "code",
   "execution_count": 10,
   "id": "a7b74de8",
   "metadata": {
    "execution": {
     "iopub.execute_input": "2024-08-20T20:26:53.021184Z",
     "iopub.status.busy": "2024-08-20T20:26:53.020717Z",
     "iopub.status.idle": "2024-08-20T20:26:53.031706Z",
     "shell.execute_reply": "2024-08-20T20:26:53.030460Z"
    },
    "papermill": {
     "duration": 0.029745,
     "end_time": "2024-08-20T20:26:53.034154",
     "exception": false,
     "start_time": "2024-08-20T20:26:53.004409",
     "status": "completed"
    },
    "tags": []
   },
   "outputs": [
    {
     "data": {
      "text/plain": [
       "0    2\n",
       "1    1\n",
       "2    0\n",
       "3    2\n",
       "4    1\n",
       "5    2\n",
       "6    0\n",
       "7    1\n",
       "8    0\n",
       "9    2\n",
       "Name: ParentalSupport, dtype: int64"
      ]
     },
     "execution_count": 10,
     "metadata": {},
     "output_type": "execute_result"
    }
   ],
   "source": [
    "ParentalSupport_label_Encoding={\n",
    "    \"Low\":0,\n",
    "    \"Medium\":1,\n",
    "    \"High\":2\n",
    "}\n",
    "df['ParentalSupport']=df['ParentalSupport'].map(ParentalSupport_label_Encoding)\n",
    "df['ParentalSupport']"
   ]
  },
  {
   "cell_type": "code",
   "execution_count": 11,
   "id": "1b57cda4",
   "metadata": {
    "execution": {
     "iopub.execute_input": "2024-08-20T20:26:53.066236Z",
     "iopub.status.busy": "2024-08-20T20:26:53.065762Z",
     "iopub.status.idle": "2024-08-20T20:26:53.076621Z",
     "shell.execute_reply": "2024-08-20T20:26:53.075447Z"
    },
    "papermill": {
     "duration": 0.030123,
     "end_time": "2024-08-20T20:26:53.079341",
     "exception": false,
     "start_time": "2024-08-20T20:26:53.049218",
     "status": "completed"
    },
    "tags": []
   },
   "outputs": [
    {
     "data": {
      "text/plain": [
       "0    0\n",
       "1    1\n",
       "2    0\n",
       "3    0\n",
       "4    1\n",
       "5    1\n",
       "6    0\n",
       "7    1\n",
       "8    0\n",
       "9    1\n",
       "Name: Gender, dtype: int64"
      ]
     },
     "execution_count": 11,
     "metadata": {},
     "output_type": "execute_result"
    }
   ],
   "source": [
    "Gender_label_Encoding={\n",
    "    \"Male\":0,\n",
    "    \"Female\":1\n",
    "}\n",
    "df['Gender']=df['Gender'].map(Gender_label_Encoding)\n",
    "df['Gender']"
   ]
  },
  {
   "cell_type": "code",
   "execution_count": 12,
   "id": "e817501c",
   "metadata": {
    "execution": {
     "iopub.execute_input": "2024-08-20T20:26:53.111942Z",
     "iopub.status.busy": "2024-08-20T20:26:53.111539Z",
     "iopub.status.idle": "2024-08-20T20:26:53.119671Z",
     "shell.execute_reply": "2024-08-20T20:26:53.118277Z"
    },
    "papermill": {
     "duration": 0.027665,
     "end_time": "2024-08-20T20:26:53.122378",
     "exception": false,
     "start_time": "2024-08-20T20:26:53.094713",
     "status": "completed"
    },
    "tags": []
   },
   "outputs": [],
   "source": [
    "df=df.drop(['StudentID',\"Name\"],axis=1)"
   ]
  },
  {
   "cell_type": "markdown",
   "id": "49fe9610",
   "metadata": {
    "papermill": {
     "duration": 0.014908,
     "end_time": "2024-08-20T20:26:53.153834",
     "exception": false,
     "start_time": "2024-08-20T20:26:53.138926",
     "status": "completed"
    },
    "tags": []
   },
   "source": [
    "# <p style=\"width: 800px; border-radius: 12px; border: 3px dashed #ffe81c; padding: 20px; background-color: #058BDD; text-align: center; box-shadow: 0px 6px 12px rgba(0, 0, 0, 0.3); color: #F0FF00; text-shadow: 1px 1px 2px rgba(0, 0, 0, 0.3); font-weight: bold; margin-bottom: 15px; font-size: 30px;\">heatmap</p>"
   ]
  },
  {
   "cell_type": "code",
   "execution_count": 13,
   "id": "c94deb8a",
   "metadata": {
    "execution": {
     "iopub.execute_input": "2024-08-20T20:26:53.187926Z",
     "iopub.status.busy": "2024-08-20T20:26:53.186809Z",
     "iopub.status.idle": "2024-08-20T20:26:53.705966Z",
     "shell.execute_reply": "2024-08-20T20:26:53.704593Z"
    },
    "papermill": {
     "duration": 0.539861,
     "end_time": "2024-08-20T20:26:53.708949",
     "exception": false,
     "start_time": "2024-08-20T20:26:53.169088",
     "status": "completed"
    },
    "tags": []
   },
   "outputs": [
    {
     "data": {
      "text/plain": [
       "<Axes: >"
      ]
     },
     "execution_count": 13,
     "metadata": {},
     "output_type": "execute_result"
    },
    {
     "data": {
      "image/png": "[encoded data removed]",
      "text/plain": [
       "<Figure size 640x480 with 2 Axes>"
      ]
     },
     "metadata": {},
     "output_type": "display_data"
    }
   ],
   "source": [
    "sns.heatmap(df.corr(),annot=True)"
   ]
  },
  {
   "cell_type": "markdown",
   "id": "4205d5a8",
   "metadata": {
    "papermill": {
     "duration": 0.016324,
     "end_time": "2024-08-20T20:26:53.741846",
     "exception": false,
     "start_time": "2024-08-20T20:26:53.725522",
     "status": "completed"
    },
    "tags": []
   },
   "source": [
    "# To avoid overfitting, it's recommended to remove features with strong correlations like PreviousGrade, AttendanceRate, StudentID, and Name from the model.\n"
   ]
  },
  {
   "cell_type": "code",
   "execution_count": 14,
   "id": "b36c9153",
   "metadata": {
    "execution": {
     "iopub.execute_input": "2024-08-20T20:26:53.777837Z",
     "iopub.status.busy": "2024-08-20T20:26:53.777457Z",
     "iopub.status.idle": "2024-08-20T20:26:53.785001Z",
     "shell.execute_reply": "2024-08-20T20:26:53.783466Z"
    },
    "papermill": {
     "duration": 0.028579,
     "end_time": "2024-08-20T20:26:53.787842",
     "exception": false,
     "start_time": "2024-08-20T20:26:53.759263",
     "status": "completed"
    },
    "tags": []
   },
   "outputs": [],
   "source": [
    "df=df.drop(['AttendanceRate','PreviousGrade'],axis=1)"
   ]
  },
  {
   "cell_type": "code",
   "execution_count": 15,
   "id": "0e3f1178",
   "metadata": {
    "execution": {
     "iopub.execute_input": "2024-08-20T20:26:53.823613Z",
     "iopub.status.busy": "2024-08-20T20:26:53.823208Z",
     "iopub.status.idle": "2024-08-20T20:26:53.837343Z",
     "shell.execute_reply": "2024-08-20T20:26:53.836139Z"
    },
    "papermill": {
     "duration": 0.035294,
     "end_time": "2024-08-20T20:26:53.839857",
     "exception": false,
     "start_time": "2024-08-20T20:26:53.804563",
     "status": "completed"
    },
    "tags": []
   },
   "outputs": [
    {
     "data": {
      "text/html": [
       "<div>\n",
       "<style scoped>\n",
       "    .dataframe tbody tr th:only-of-type {\n",
       "        vertical-align: middle;\n",
       "    }\n",
       "\n",
       "    .dataframe tbody tr th {\n",
       "        vertical-align: top;\n",
       "    }\n",
       "\n",
       "    .dataframe thead th {\n",
       "        text-align: right;\n",
       "    }\n",
       "</style>\n",
       "<table border=\"1\" class=\"dataframe\">\n",
       "  <thead>\n",
       "    <tr style=\"text-align: right;\">\n",
       "      <th></th>\n",
       "      <th>Gender</th>\n",
       "      <th>StudyHoursPerWeek</th>\n",
       "      <th>ExtracurricularActivities</th>\n",
       "      <th>ParentalSupport</th>\n",
       "      <th>FinalGrade</th>\n",
       "    </tr>\n",
       "  </thead>\n",
       "  <tbody>\n",
       "    <tr>\n",
       "      <th>0</th>\n",
       "      <td>0</td>\n",
       "      <td>15</td>\n",
       "      <td>1</td>\n",
       "      <td>2</td>\n",
       "      <td>80</td>\n",
       "    </tr>\n",
       "    <tr>\n",
       "      <th>1</th>\n",
       "      <td>1</td>\n",
       "      <td>20</td>\n",
       "      <td>2</td>\n",
       "      <td>1</td>\n",
       "      <td>87</td>\n",
       "    </tr>\n",
       "    <tr>\n",
       "      <th>2</th>\n",
       "      <td>0</td>\n",
       "      <td>10</td>\n",
       "      <td>0</td>\n",
       "      <td>0</td>\n",
       "      <td>68</td>\n",
       "    </tr>\n",
       "    <tr>\n",
       "      <th>3</th>\n",
       "      <td>0</td>\n",
       "      <td>25</td>\n",
       "      <td>3</td>\n",
       "      <td>2</td>\n",
       "      <td>92</td>\n",
       "    </tr>\n",
       "    <tr>\n",
       "      <th>4</th>\n",
       "      <td>1</td>\n",
       "      <td>18</td>\n",
       "      <td>2</td>\n",
       "      <td>1</td>\n",
       "      <td>85</td>\n",
       "    </tr>\n",
       "    <tr>\n",
       "      <th>5</th>\n",
       "      <td>1</td>\n",
       "      <td>30</td>\n",
       "      <td>1</td>\n",
       "      <td>2</td>\n",
       "      <td>90</td>\n",
       "    </tr>\n",
       "    <tr>\n",
       "      <th>6</th>\n",
       "      <td>0</td>\n",
       "      <td>8</td>\n",
       "      <td>0</td>\n",
       "      <td>0</td>\n",
       "      <td>62</td>\n",
       "    </tr>\n",
       "    <tr>\n",
       "      <th>7</th>\n",
       "      <td>1</td>\n",
       "      <td>17</td>\n",
       "      <td>1</td>\n",
       "      <td>1</td>\n",
       "      <td>78</td>\n",
       "    </tr>\n",
       "    <tr>\n",
       "      <th>8</th>\n",
       "      <td>0</td>\n",
       "      <td>12</td>\n",
       "      <td>2</td>\n",
       "      <td>0</td>\n",
       "      <td>72</td>\n",
       "    </tr>\n",
       "    <tr>\n",
       "      <th>9</th>\n",
       "      <td>1</td>\n",
       "      <td>22</td>\n",
       "      <td>3</td>\n",
       "      <td>2</td>\n",
       "      <td>88</td>\n",
       "    </tr>\n",
       "  </tbody>\n",
       "</table>\n",
       "</div>"
      ],
      "text/plain": [
       "   Gender  StudyHoursPerWeek  ExtracurricularActivities  ParentalSupport  \\\n",
       "0       0                 15                          1                2   \n",
       "1       1                 20                          2                1   \n",
       "2       0                 10                          0                0   \n",
       "3       0                 25                          3                2   \n",
       "4       1                 18                          2                1   \n",
       "5       1                 30                          1                2   \n",
       "6       0                  8                          0                0   \n",
       "7       1                 17                          1                1   \n",
       "8       0                 12                          2                0   \n",
       "9       1                 22                          3                2   \n",
       "\n",
       "   FinalGrade  \n",
       "0          80  \n",
       "1          87  \n",
       "2          68  \n",
       "3          92  \n",
       "4          85  \n",
       "5          90  \n",
       "6          62  \n",
       "7          78  \n",
       "8          72  \n",
       "9          88  "
      ]
     },
     "execution_count": 15,
     "metadata": {},
     "output_type": "execute_result"
    }
   ],
   "source": [
    "df"
   ]
  },
  {
   "cell_type": "markdown",
   "id": "91161a41",
   "metadata": {
    "papermill": {
     "duration": 0.016823,
     "end_time": "2024-08-20T20:26:53.873686",
     "exception": false,
     "start_time": "2024-08-20T20:26:53.856863",
     "status": "completed"
    },
    "tags": []
   },
   "source": [
    "# <p style=\"width: 800px; border-radius: 12px; border: 3px dashed #ffe81c; padding: 20px; background-color: #058BDD; text-align: center; box-shadow: 0px 6px 12px rgba(0, 0, 0, 0.3); color: #F0FF00; text-shadow: 1px 1px 2px rgba(0, 0, 0, 0.3); font-weight: bold; margin-bottom: 15px; font-size: 30px;\">Train and test split/p> "
   ]
  },
  {
   "cell_type": "code",
   "execution_count": 16,
   "id": "606301c2",
   "metadata": {
    "execution": {
     "iopub.execute_input": "2024-08-20T20:26:53.910876Z",
     "iopub.status.busy": "2024-08-20T20:26:53.909527Z",
     "iopub.status.idle": "2024-08-20T20:26:53.916883Z",
     "shell.execute_reply": "2024-08-20T20:26:53.915448Z"
    },
    "papermill": {
     "duration": 0.029298,
     "end_time": "2024-08-20T20:26:53.919999",
     "exception": false,
     "start_time": "2024-08-20T20:26:53.890701",
     "status": "completed"
    },
    "tags": []
   },
   "outputs": [],
   "source": [
    "x=df.drop('FinalGrade',axis=1)\n",
    "y=df['FinalGrade']"
   ]
  },
  {
   "cell_type": "code",
   "execution_count": 17,
   "id": "e3c61043",
   "metadata": {
    "execution": {
     "iopub.execute_input": "2024-08-20T20:26:53.956751Z",
     "iopub.status.busy": "2024-08-20T20:26:53.956322Z",
     "iopub.status.idle": "2024-08-20T20:26:54.292736Z",
     "shell.execute_reply": "2024-08-20T20:26:54.291630Z"
    },
    "papermill": {
     "duration": 0.358122,
     "end_time": "2024-08-20T20:26:54.295807",
     "exception": false,
     "start_time": "2024-08-20T20:26:53.937685",
     "status": "completed"
    },
    "tags": []
   },
   "outputs": [],
   "source": [
    "from sklearn.model_selection import train_test_split"
   ]
  },
  {
   "cell_type": "code",
   "execution_count": 18,
   "id": "e9e1d9eb",
   "metadata": {
    "execution": {
     "iopub.execute_input": "2024-08-20T20:26:54.332280Z",
     "iopub.status.busy": "2024-08-20T20:26:54.331809Z",
     "iopub.status.idle": "2024-08-20T20:26:54.342088Z",
     "shell.execute_reply": "2024-08-20T20:26:54.340745Z"
    },
    "papermill": {
     "duration": 0.031882,
     "end_time": "2024-08-20T20:26:54.344838",
     "exception": false,
     "start_time": "2024-08-20T20:26:54.312956",
     "status": "completed"
    },
    "tags": []
   },
   "outputs": [],
   "source": [
    "x_train,x_test,y_train,y_test=train_test_split(x,y,random_state=42,test_size=0.2)"
   ]
  },
  {
   "cell_type": "markdown",
   "id": "01c7e996",
   "metadata": {
    "papermill": {
     "duration": 0.016827,
     "end_time": "2024-08-20T20:26:54.378610",
     "exception": false,
     "start_time": "2024-08-20T20:26:54.361783",
     "status": "completed"
    },
    "tags": []
   },
   "source": [
    "# <p style=\"width: 800px; border-radius: 12px; border: 3px dashed #ffe81c; padding: 20px; background-color: #058BDD; text-align: center; box-shadow: 0px 6px 12px rgba(0, 0, 0, 0.3); color: #F0FF00; text-shadow: 1px 1px 2px rgba(0, 0, 0, 0.3); font-weight: bold; margin-bottom: 15px; font-size: 30px;\">Scaler in data</p> "
   ]
  },
  {
   "cell_type": "code",
   "execution_count": 19,
   "id": "763a5e9f",
   "metadata": {
    "execution": {
     "iopub.execute_input": "2024-08-20T20:26:54.414995Z",
     "iopub.status.busy": "2024-08-20T20:26:54.414578Z",
     "iopub.status.idle": "2024-08-20T20:26:54.427066Z",
     "shell.execute_reply": "2024-08-20T20:26:54.426019Z"
    },
    "papermill": {
     "duration": 0.034172,
     "end_time": "2024-08-20T20:26:54.429827",
     "exception": false,
     "start_time": "2024-08-20T20:26:54.395655",
     "status": "completed"
    },
    "tags": []
   },
   "outputs": [],
   "source": [
    "from sklearn.preprocessing import StandardScaler\n",
    "\n",
    "scaler=StandardScaler()\n",
    "x_train=scaler.fit_transform(x_train)\n",
    "x_test=scaler.transform(x_test)"
   ]
  },
  {
   "cell_type": "markdown",
   "id": "6e4c30ac",
   "metadata": {
    "papermill": {
     "duration": 0.016837,
     "end_time": "2024-08-20T20:26:54.463796",
     "exception": false,
     "start_time": "2024-08-20T20:26:54.446959",
     "status": "completed"
    },
    "tags": []
   },
   "source": [
    "# <p style=\"width: 800px; border-radius: 12px; border: 3px dashed #ffe81c; padding: 20px; background-color: #058BDD; text-align: center; box-shadow: 0px 6px 12px rgba(0, 0, 0, 0.3); color: #F0FF00; text-shadow: 1px 1px 2px rgba(0, 0, 0, 0.3); font-weight: bold; margin-bottom: 15px; font-size: 30px;\">build model/p> "
   ]
  },
  {
   "cell_type": "code",
   "execution_count": 20,
   "id": "f56ad1d7",
   "metadata": {
    "execution": {
     "iopub.execute_input": "2024-08-20T20:26:54.510187Z",
     "iopub.status.busy": "2024-08-20T20:26:54.509684Z",
     "iopub.status.idle": "2024-08-20T20:26:54.627323Z",
     "shell.execute_reply": "2024-08-20T20:26:54.626014Z"
    },
    "papermill": {
     "duration": 0.143826,
     "end_time": "2024-08-20T20:26:54.630433",
     "exception": false,
     "start_time": "2024-08-20T20:26:54.486607",
     "status": "completed"
    },
    "tags": []
   },
   "outputs": [],
   "source": [
    "from sklearn.linear_model import LinearRegression"
   ]
  },
  {
   "cell_type": "code",
   "execution_count": 21,
   "id": "8c9a8893",
   "metadata": {
    "execution": {
     "iopub.execute_input": "2024-08-20T20:26:54.728330Z",
     "iopub.status.busy": "2024-08-20T20:26:54.727838Z",
     "iopub.status.idle": "2024-08-20T20:26:54.733521Z",
     "shell.execute_reply": "2024-08-20T20:26:54.732191Z"
    },
    "papermill": {
     "duration": 0.026583,
     "end_time": "2024-08-20T20:26:54.736009",
     "exception": false,
     "start_time": "2024-08-20T20:26:54.709426",
     "status": "completed"
    },
    "tags": []
   },
   "outputs": [],
   "source": [
    "model=LinearRegression()"
   ]
  },
  {
   "cell_type": "code",
   "execution_count": 22,
   "id": "0974ec89",
   "metadata": {
    "execution": {
     "iopub.execute_input": "2024-08-20T20:26:54.772243Z",
     "iopub.status.busy": "2024-08-20T20:26:54.771813Z",
     "iopub.status.idle": "2024-08-20T20:26:54.804638Z",
     "shell.execute_reply": "2024-08-20T20:26:54.803269Z"
    },
    "papermill": {
     "duration": 0.054276,
     "end_time": "2024-08-20T20:26:54.807457",
     "exception": false,
     "start_time": "2024-08-20T20:26:54.753181",
     "status": "completed"
    },
    "tags": []
   },
   "outputs": [
    {
     "data": {
      "text/html": [
       "<style>#sk-container-id-1 {color: black;background-color: white;}#sk-container-id-1 pre{padding: 0;}#sk-container-id-1 div.sk-toggleable {background-color: white;}#sk-container-id-1 label.sk-toggleable__label {cursor: pointer;display: block;width: 100%;margin-bottom: 0;padding: 0.3em;box-sizing: border-box;text-align: center;}#sk-container-id-1 label.sk-toggleable__label-arrow:before {content: \"▸\";float: left;margin-right: 0.25em;color: #696969;}#sk-container-id-1 label.sk-toggleable__label-arrow:hover:before {color: black;}#sk-container-id-1 div.sk-estimator:hover label.sk-toggleable__label-arrow:before {color: black;}#sk-container-id-1 div.sk-toggleable__content {max-height: 0;max-width: 0;overflow: hidden;text-align: left;background-color: #f0f8ff;}#sk-container-id-1 div.sk-toggleable__content pre {margin: 0.2em;color: black;border-radius: 0.25em;background-color: #f0f8ff;}#sk-container-id-1 input.sk-toggleable__control:checked~div.sk-toggleable__content {max-height: 200px;max-width: 100%;overflow: auto;}#sk-container-id-1 input.sk-toggleable__control:checked~label.sk-toggleable__label-arrow:before {content: \"▾\";}#sk-container-id-1 div.sk-estimator input.sk-toggleable__control:checked~label.sk-toggleable__label {background-color: #d4ebff;}#sk-container-id-1 div.sk-label input.sk-toggleable__control:checked~label.sk-toggleable__label {background-color: #d4ebff;}#sk-container-id-1 input.sk-hidden--visually {border: 0;clip: rect(1px 1px 1px 1px);clip: rect(1px, 1px, 1px, 1px);height: 1px;margin: -1px;overflow: hidden;padding: 0;position: absolute;width: 1px;}#sk-container-id-1 div.sk-estimator {font-family: monospace;background-color: #f0f8ff;border: 1px dotted black;border-radius: 0.25em;box-sizing: border-box;margin-bottom: 0.5em;}#sk-container-id-1 div.sk-estimator:hover {background-color: #d4ebff;}#sk-container-id-1 div.sk-parallel-item::after {content: \"\";width: 100%;border-bottom: 1px solid gray;flex-grow: 1;}#sk-container-id-1 div.sk-label:hover label.sk-toggleable__label {background-color: #d4ebff;}#sk-container-id-1 div.sk-serial::before {content: \"\";position: absolute;border-left: 1px solid gray;box-sizing: border-box;top: 0;bottom: 0;left: 50%;z-index: 0;}#sk-container-id-1 div.sk-serial {display: flex;flex-direction: column;align-items: center;background-color: white;padding-right: 0.2em;padding-left: 0.2em;position: relative;}#sk-container-id-1 div.sk-item {position: relative;z-index: 1;}#sk-container-id-1 div.sk-parallel {display: flex;align-items: stretch;justify-content: center;background-color: white;position: relative;}#sk-container-id-1 div.sk-item::before, #sk-container-id-1 div.sk-parallel-item::before {content: \"\";position: absolute;border-left: 1px solid gray;box-sizing: border-box;top: 0;bottom: 0;left: 50%;z-index: -1;}#sk-container-id-1 div.sk-parallel-item {display: flex;flex-direction: column;z-index: 1;position: relative;background-color: white;}#sk-container-id-1 div.sk-parallel-item:first-child::after {align-self: flex-end;width: 50%;}#sk-container-id-1 div.sk-parallel-item:last-child::after {align-self: flex-start;width: 50%;}#sk-container-id-1 div.sk-parallel-item:only-child::after {width: 0;}#sk-container-id-1 div.sk-dashed-wrapped {border: 1px dashed gray;margin: 0 0.4em 0.5em 0.4em;box-sizing: border-box;padding-bottom: 0.4em;background-color: white;}#sk-container-id-1 div.sk-label label {font-family: monospace;font-weight: bold;display: inline-block;line-height: 1.2em;}#sk-container-id-1 div.sk-label-container {text-align: center;}#sk-container-id-1 div.sk-container {/* jupyter's `normalize.less` sets `[hidden] { display: none; }` but bootstrap.min.css set `[hidden] { display: none !important; }` so we also need the `!important` here to be able to override the default hidden behavior on the sphinx rendered scikit-learn.org. See: https://github.com/scikit-learn/scikit-learn/issues/21755 */display: inline-block !important;position: relative;}#sk-container-id-1 div.sk-text-repr-fallback {display: none;}</style><div id=\"sk-container-id-1\" class=\"sk-top-container\"><div class=\"sk-text-repr-fallback\"><pre>LinearRegression()</pre><b>In a Jupyter environment, please rerun this cell to show the HTML representation or trust the notebook. <br />On GitHub, the HTML representation is unable to render, please try loading this page with nbviewer.org.</b></div><div class=\"sk-container\" hidden><div class=\"sk-item\"><div class=\"sk-estimator sk-toggleable\"><input class=\"sk-toggleable__control sk-hidden--visually\" id=\"sk-estimator-id-1\" type=\"checkbox\" checked><label for=\"sk-estimator-id-1\" class=\"sk-toggleable__label sk-toggleable__label-arrow\">LinearRegression</label><div class=\"sk-toggleable__content\"><pre>LinearRegression()</pre></div></div></div></div></div>"
      ],
      "text/plain": [
       "LinearRegression()"
      ]
     },
     "execution_count": 22,
     "metadata": {},
     "output_type": "execute_result"
    }
   ],
   "source": [
    "model.fit(x_train,y_train)"
   ]
  },
  {
   "cell_type": "markdown",
   "id": "8d5b77dd",
   "metadata": {
    "papermill": {
     "duration": 0.01823,
     "end_time": "2024-08-20T20:26:54.843698",
     "exception": false,
     "start_time": "2024-08-20T20:26:54.825468",
     "status": "completed"
    },
    "tags": []
   },
   "source": [
    "# <p style=\"width: 800px; border-radius: 12px; border: 3px dashed #ffe81c; padding: 20px; background-color: #058BDD; text-align: center; box-shadow: 0px 6px 12px rgba(0, 0, 0, 0.3); color: #F0FF00; text-shadow: 1px 1px 2px rgba(0, 0, 0, 0.3); font-weight: bold; margin-bottom: 15px; font-size: 30px;\">Evaluation</p>  \n"
   ]
  },
  {
   "cell_type": "code",
   "execution_count": 23,
   "id": "23966c9f",
   "metadata": {
    "execution": {
     "iopub.execute_input": "2024-08-20T20:26:54.881056Z",
     "iopub.status.busy": "2024-08-20T20:26:54.880614Z",
     "iopub.status.idle": "2024-08-20T20:26:54.886812Z",
     "shell.execute_reply": "2024-08-20T20:26:54.885597Z"
    },
    "papermill": {
     "duration": 0.028204,
     "end_time": "2024-08-20T20:26:54.889622",
     "exception": false,
     "start_time": "2024-08-20T20:26:54.861418",
     "status": "completed"
    },
    "tags": []
   },
   "outputs": [],
   "source": [
    "from sklearn.metrics import mean_absolute_error,mean_squared_error,r2_score\n",
    "pred_y=model.predict(x_test)"
   ]
  },
  {
   "cell_type": "code",
   "execution_count": 24,
   "id": "910f86d7",
   "metadata": {
    "execution": {
     "iopub.execute_input": "2024-08-20T20:26:54.926808Z",
     "iopub.status.busy": "2024-08-20T20:26:54.926392Z",
     "iopub.status.idle": "2024-08-20T20:26:54.934567Z",
     "shell.execute_reply": "2024-08-20T20:26:54.933046Z"
    },
    "papermill": {
     "duration": 0.03008,
     "end_time": "2024-08-20T20:26:54.937141",
     "exception": false,
     "start_time": "2024-08-20T20:26:54.907061",
     "status": "completed"
    },
    "tags": []
   },
   "outputs": [
    {
     "data": {
      "text/plain": [
       "array([73.77195434, 83.29163755])"
      ]
     },
     "execution_count": 24,
     "metadata": {},
     "output_type": "execute_result"
    }
   ],
   "source": [
    "pred_y"
   ]
  },
  {
   "cell_type": "code",
   "execution_count": 25,
   "id": "988ae48a",
   "metadata": {
    "execution": {
     "iopub.execute_input": "2024-08-20T20:26:54.974835Z",
     "iopub.status.busy": "2024-08-20T20:26:54.974449Z",
     "iopub.status.idle": "2024-08-20T20:26:54.983914Z",
     "shell.execute_reply": "2024-08-20T20:26:54.982495Z"
    },
    "papermill": {
     "duration": 0.031828,
     "end_time": "2024-08-20T20:26:54.986737",
     "exception": false,
     "start_time": "2024-08-20T20:26:54.954909",
     "status": "completed"
    },
    "tags": []
   },
   "outputs": [
    {
     "name": "stdout",
     "output_type": "stream",
     "text": [
      "MSE =  2.740158397391099\n",
      "RMSE  =  2.906180849715144\n",
      "R2  =  0.849850895444426\n"
     ]
    }
   ],
   "source": [
    "print(\"MSE = \",mean_absolute_error(y_test,pred_y))\n",
    "print(\"RMSE  = \",np.sqrt(mean_squared_error(y_test,pred_y)))\n",
    "print(\"R2  = \",r2_score(y_test,pred_y))"
   ]
  },
  {
   "cell_type": "code",
   "execution_count": 26,
   "id": "0a4d33a8",
   "metadata": {
    "execution": {
     "iopub.execute_input": "2024-08-20T20:26:55.024947Z",
     "iopub.status.busy": "2024-08-20T20:26:55.023935Z",
     "iopub.status.idle": "2024-08-20T20:26:55.029987Z",
     "shell.execute_reply": "2024-08-20T20:26:55.028535Z"
    },
    "papermill": {
     "duration": 0.028171,
     "end_time": "2024-08-20T20:26:55.032693",
     "exception": false,
     "start_time": "2024-08-20T20:26:55.004522",
     "status": "completed"
    },
    "tags": []
   },
   "outputs": [],
   "source": [
    "pred_train=model.predict(x_train)"
   ]
  },
  {
   "cell_type": "code",
   "execution_count": 27,
   "id": "257e33cc",
   "metadata": {
    "execution": {
     "iopub.execute_input": "2024-08-20T20:26:55.071413Z",
     "iopub.status.busy": "2024-08-20T20:26:55.069986Z",
     "iopub.status.idle": "2024-08-20T20:26:55.079773Z",
     "shell.execute_reply": "2024-08-20T20:26:55.078327Z"
    },
    "papermill": {
     "duration": 0.032219,
     "end_time": "2024-08-20T20:26:55.082676",
     "exception": false,
     "start_time": "2024-08-20T20:26:55.050457",
     "status": "completed"
    },
    "tags": []
   },
   "outputs": [
    {
     "name": "stdout",
     "output_type": "stream",
     "text": [
      "MSE =  1.5439669228977433\n",
      "RMSE  =  1.9266178942900565\n",
      "R2  =  0.9630603612691162\n"
     ]
    }
   ],
   "source": [
    "print(\"MSE = \",mean_absolute_error(y_train,pred_train))\n",
    "print(\"RMSE  = \",np.sqrt(mean_squared_error(y_train,pred_train)))\n",
    "print(\"R2  = \",r2_score(y_train,pred_train))"
   ]
  }
 ],
 "metadata": {
  "kaggle": {
   "accelerator": "none",
   "dataSources": [
    {
     "datasetId": 5555170,
     "sourceId": 9189698,
     "sourceType": "datasetVersion"
    }
   ],
   "dockerImageVersionId": 30746,
   "isGpuEnabled": false,
   "isInternetEnabled": true,
   "language": "python",
   "sourceType": "notebook"
  },
  "kernelspec": {
   "display_name": "Python 3",
   "language": "python",
   "name": "python3"
  },
  "language_info": {
   "codemirror_mode": {
    "name": "ipython",
    "version": 3
   },
   "file_extension": ".py",
   "mimetype": "text/x-python",
   "name": "python",
   "nbconvert_exporter": "python",
   "pygments_lexer": "ipython3",
   "version": "3.10.13"
  },
  "papermill": {
   "default_parameters": {},
   "duration": 10.936144,
   "end_time": "2024-08-20T20:26:55.823325",
   "environment_variables": {},
   "exception": null,
   "input_path": "__notebook__.ipynb",
   "output_path": "__notebook__.ipynb",
   "parameters": {},
   "start_time": "2024-08-20T20:26:44.887181",
   "version": "2.5.0"
  }
 },
 "nbformat": 4,
 "nbformat_minor": 5
}
